{
 "cells": [
  {
   "cell_type": "code",
   "execution_count": null,
   "id": "5893c948-b42f-4d33-9976-c1b2d2a74a02",
   "metadata": {},
   "outputs": [],
   "source": [
    "Q1. You are writing code for a company. The requirement of the company is that you create a python\n",
    "function that will check whether the password entered by the user is correct or not. The function should\n",
    "take the password as input and return the string “Valid Password” if the entered password follows the\n",
    "below-given password guidelines else it should return “Invalid Password”.\n",
    "Note: 1. The Password should contain at least two uppercase letters and at least two lowercase letters.\n",
    "2. The Password should contain at least a number and three special characters.\n",
    "3. The length of the password should be 10 characters long.\n",
    "\n",
    "\n",
    "import re\n",
    "\n",
    "def is_valid_password(password):\n",
    "    # Check if the password is exactly 10 characters long\n",
    "    if len(password) != 10:\n",
    "        return \"Invalid Password\"\n",
    "\n",
    "    # Count the number of uppercase and lowercase letters\n",
    "    uppercase_count = sum(1 for char in password if char.isupper())\n",
    "    lowercase_count = sum(1 for char in password if char.islower())\n",
    "\n",
    "    # Check if there are at least two uppercase and two lowercase letters\n",
    "    if uppercase_count < 2 or lowercase_count < 2:\n",
    "        return \"Invalid Password\"\n",
    "\n",
    "    # Check if the password contains at least one digit\n",
    "    if not any(char.isdigit() for char in password):\n",
    "        return \"Invalid Password\"\n",
    "\n",
    "    # Check if the password contains at least three special characters\n",
    "    special_characters = re.findall(r'[!@#$%^&*()_+{}:;<>,.?~]', password)\n",
    "    if len(special_characters) < 3:\n",
    "        return \"Invalid Password\"\n",
    "\n",
    "    # If all checks pass, the password is valid\n",
    "    return \"Valid Password\"\n",
    "\n",
    "# Example usage:\n",
    "password = \"AbCd1!2#3$\"\n",
    "result = is_valid_password(password)\n",
    "print(result)  # Output: \"Valid Password\"\n"
   ]
  },
  {
   "cell_type": "code",
   "execution_count": null,
   "id": "8aef5592-2873-483c-8694-a7a1b72d1046",
   "metadata": {},
   "outputs": [],
   "source": [
    "Q2. Solve the below-given questions using at least one of the following:\n",
    "1. Lambda function\n",
    "Check if the string starts with a particular letter\n",
    "# Define a lambda function to check if a string starts with a particular letter\n",
    "starts_with_letter = lambda input_string, letter: input_string.startswith(letter)\n",
    "\n",
    "# Test the lambda function\n",
    "input_string = \"Python is a programming language\"\n",
    "letter_to_check = \"P\"\n",
    "\n",
    "# Check if the string starts with the specified letter\n",
    "result = starts_with_letter(input_string, letter_to_check)\n",
    "\n",
    "if result:\n",
    "    print(f\"The string '{input_string}' starts with the letter '{letter_to_check}'.\")\n",
    "else:\n",
    "    print(f\"The string '{input_string}' does not start with the letter '{letter_to_check}'.\")\n",
    "\n",
    "    \n",
    " Check if the string is numeric \n",
    "# Define a list of strings\n",
    "strings = [\"123\", \"abc\", \"456\", \"789\", \"xyz\", \"42\"]\n",
    "\n",
    "# Use the filter() function with a lambda to filter numeric strings\n",
    "numeric_strings = list(filter(lambda s: s.isnumeric(), strings))\n",
    "\n",
    "# Print the result\n",
    "print(\"Numeric strings:\", numeric_strings)\n",
    "\n",
    "\n"
   ]
  },
  {
   "cell_type": "code",
   "execution_count": null,
   "id": "cc42d932-2186-47b7-943a-5f1bb69a50c8",
   "metadata": {},
   "outputs": [],
   "source": [
    " Sort a list of tuples having fruit names and their quantity. [(\"mango\",99),(\"orange\",80), (\"grapes\", 1000) in Zap function"
   ]
  }
 ],
 "metadata": {
  "kernelspec": {
   "display_name": "Python 3 (ipykernel)",
   "language": "python",
   "name": "python3"
  },
  "language_info": {
   "codemirror_mode": {
    "name": "ipython",
    "version": 3
   },
   "file_extension": ".py",
   "mimetype": "text/x-python",
   "name": "python",
   "nbconvert_exporter": "python",
   "pygments_lexer": "ipython3",
   "version": "3.10.8"
  }
 },
 "nbformat": 4,
 "nbformat_minor": 5
}
